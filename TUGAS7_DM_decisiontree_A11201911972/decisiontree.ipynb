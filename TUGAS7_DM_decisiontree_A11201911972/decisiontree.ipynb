{
  "nbformat": 4,
  "nbformat_minor": 0,
  "metadata": {
    "colab": {
      "name": "decisiontree.ipynb",
      "provenance": []
    },
    "kernelspec": {
      "name": "python3",
      "display_name": "Python 3"
    },
    "language_info": {
      "name": "python"
    }
  },
  "cells": [
    {
      "cell_type": "code",
      "execution_count": 144,
      "metadata": {
        "id": "tt412GTctWYw"
      },
      "outputs": [],
      "source": [
        "import numpy as np\n",
        "import pandas as pd\n",
        "from sklearn import tree"
      ]
    },
    {
      "cell_type": "code",
      "source": [
        "diabetes_dataset = pd.read_csv('diabetes_dataset.csv', header=0)"
      ],
      "metadata": {
        "id": "x5Irqz2euB7w"
      },
      "execution_count": 145,
      "outputs": []
    },
    {
      "cell_type": "code",
      "source": [
        "diabetes_dataset.head()"
      ],
      "metadata": {
        "colab": {
          "base_uri": "https://localhost:8080/",
          "height": 206
        },
        "id": "jPtm1vLquNJC",
        "outputId": "98cb8963-cfc5-4dd7-826d-67f2d3c7bb70"
      },
      "execution_count": 146,
      "outputs": [
        {
          "output_type": "execute_result",
          "data": {
            "text/plain": [
              "   Pregnancies  Glucose  BloodPressure  SkinThickness  Insulin   BMI  \\\n",
              "0            6      148             72             35        0  33.6   \n",
              "1            1       85             66             29        0  26.6   \n",
              "2            8      183             64              0        0  23.3   \n",
              "3            1       89             66             23       94  28.1   \n",
              "4            0      137             40             35      168  43.1   \n",
              "\n",
              "   DiabetesPedigreeFunction  Age  Outcome  \n",
              "0                     0.627   50        1  \n",
              "1                     0.351   31        0  \n",
              "2                     0.672   32        1  \n",
              "3                     0.167   21        0  \n",
              "4                     2.288   33        1  "
            ],
            "text/html": [
              "\n",
              "  <div id=\"df-15faea38-a03f-47b0-806a-c833d86491c2\">\n",
              "    <div class=\"colab-df-container\">\n",
              "      <div>\n",
              "<style scoped>\n",
              "    .dataframe tbody tr th:only-of-type {\n",
              "        vertical-align: middle;\n",
              "    }\n",
              "\n",
              "    .dataframe tbody tr th {\n",
              "        vertical-align: top;\n",
              "    }\n",
              "\n",
              "    .dataframe thead th {\n",
              "        text-align: right;\n",
              "    }\n",
              "</style>\n",
              "<table border=\"1\" class=\"dataframe\">\n",
              "  <thead>\n",
              "    <tr style=\"text-align: right;\">\n",
              "      <th></th>\n",
              "      <th>Pregnancies</th>\n",
              "      <th>Glucose</th>\n",
              "      <th>BloodPressure</th>\n",
              "      <th>SkinThickness</th>\n",
              "      <th>Insulin</th>\n",
              "      <th>BMI</th>\n",
              "      <th>DiabetesPedigreeFunction</th>\n",
              "      <th>Age</th>\n",
              "      <th>Outcome</th>\n",
              "    </tr>\n",
              "  </thead>\n",
              "  <tbody>\n",
              "    <tr>\n",
              "      <th>0</th>\n",
              "      <td>6</td>\n",
              "      <td>148</td>\n",
              "      <td>72</td>\n",
              "      <td>35</td>\n",
              "      <td>0</td>\n",
              "      <td>33.6</td>\n",
              "      <td>0.627</td>\n",
              "      <td>50</td>\n",
              "      <td>1</td>\n",
              "    </tr>\n",
              "    <tr>\n",
              "      <th>1</th>\n",
              "      <td>1</td>\n",
              "      <td>85</td>\n",
              "      <td>66</td>\n",
              "      <td>29</td>\n",
              "      <td>0</td>\n",
              "      <td>26.6</td>\n",
              "      <td>0.351</td>\n",
              "      <td>31</td>\n",
              "      <td>0</td>\n",
              "    </tr>\n",
              "    <tr>\n",
              "      <th>2</th>\n",
              "      <td>8</td>\n",
              "      <td>183</td>\n",
              "      <td>64</td>\n",
              "      <td>0</td>\n",
              "      <td>0</td>\n",
              "      <td>23.3</td>\n",
              "      <td>0.672</td>\n",
              "      <td>32</td>\n",
              "      <td>1</td>\n",
              "    </tr>\n",
              "    <tr>\n",
              "      <th>3</th>\n",
              "      <td>1</td>\n",
              "      <td>89</td>\n",
              "      <td>66</td>\n",
              "      <td>23</td>\n",
              "      <td>94</td>\n",
              "      <td>28.1</td>\n",
              "      <td>0.167</td>\n",
              "      <td>21</td>\n",
              "      <td>0</td>\n",
              "    </tr>\n",
              "    <tr>\n",
              "      <th>4</th>\n",
              "      <td>0</td>\n",
              "      <td>137</td>\n",
              "      <td>40</td>\n",
              "      <td>35</td>\n",
              "      <td>168</td>\n",
              "      <td>43.1</td>\n",
              "      <td>2.288</td>\n",
              "      <td>33</td>\n",
              "      <td>1</td>\n",
              "    </tr>\n",
              "  </tbody>\n",
              "</table>\n",
              "</div>\n",
              "      <button class=\"colab-df-convert\" onclick=\"convertToInteractive('df-15faea38-a03f-47b0-806a-c833d86491c2')\"\n",
              "              title=\"Convert this dataframe to an interactive table.\"\n",
              "              style=\"display:none;\">\n",
              "        \n",
              "  <svg xmlns=\"http://www.w3.org/2000/svg\" height=\"24px\"viewBox=\"0 0 24 24\"\n",
              "       width=\"24px\">\n",
              "    <path d=\"M0 0h24v24H0V0z\" fill=\"none\"/>\n",
              "    <path d=\"M18.56 5.44l.94 2.06.94-2.06 2.06-.94-2.06-.94-.94-2.06-.94 2.06-2.06.94zm-11 1L8.5 8.5l.94-2.06 2.06-.94-2.06-.94L8.5 2.5l-.94 2.06-2.06.94zm10 10l.94 2.06.94-2.06 2.06-.94-2.06-.94-.94-2.06-.94 2.06-2.06.94z\"/><path d=\"M17.41 7.96l-1.37-1.37c-.4-.4-.92-.59-1.43-.59-.52 0-1.04.2-1.43.59L10.3 9.45l-7.72 7.72c-.78.78-.78 2.05 0 2.83L4 21.41c.39.39.9.59 1.41.59.51 0 1.02-.2 1.41-.59l7.78-7.78 2.81-2.81c.8-.78.8-2.07 0-2.86zM5.41 20L4 18.59l7.72-7.72 1.47 1.35L5.41 20z\"/>\n",
              "  </svg>\n",
              "      </button>\n",
              "      \n",
              "  <style>\n",
              "    .colab-df-container {\n",
              "      display:flex;\n",
              "      flex-wrap:wrap;\n",
              "      gap: 12px;\n",
              "    }\n",
              "\n",
              "    .colab-df-convert {\n",
              "      background-color: #E8F0FE;\n",
              "      border: none;\n",
              "      border-radius: 50%;\n",
              "      cursor: pointer;\n",
              "      display: none;\n",
              "      fill: #1967D2;\n",
              "      height: 32px;\n",
              "      padding: 0 0 0 0;\n",
              "      width: 32px;\n",
              "    }\n",
              "\n",
              "    .colab-df-convert:hover {\n",
              "      background-color: #E2EBFA;\n",
              "      box-shadow: 0px 1px 2px rgba(60, 64, 67, 0.3), 0px 1px 3px 1px rgba(60, 64, 67, 0.15);\n",
              "      fill: #174EA6;\n",
              "    }\n",
              "\n",
              "    [theme=dark] .colab-df-convert {\n",
              "      background-color: #3B4455;\n",
              "      fill: #D2E3FC;\n",
              "    }\n",
              "\n",
              "    [theme=dark] .colab-df-convert:hover {\n",
              "      background-color: #434B5C;\n",
              "      box-shadow: 0px 1px 3px 1px rgba(0, 0, 0, 0.15);\n",
              "      filter: drop-shadow(0px 1px 2px rgba(0, 0, 0, 0.3));\n",
              "      fill: #FFFFFF;\n",
              "    }\n",
              "  </style>\n",
              "\n",
              "      <script>\n",
              "        const buttonEl =\n",
              "          document.querySelector('#df-15faea38-a03f-47b0-806a-c833d86491c2 button.colab-df-convert');\n",
              "        buttonEl.style.display =\n",
              "          google.colab.kernel.accessAllowed ? 'block' : 'none';\n",
              "\n",
              "        async function convertToInteractive(key) {\n",
              "          const element = document.querySelector('#df-15faea38-a03f-47b0-806a-c833d86491c2');\n",
              "          const dataTable =\n",
              "            await google.colab.kernel.invokeFunction('convertToInteractive',\n",
              "                                                     [key], {});\n",
              "          if (!dataTable) return;\n",
              "\n",
              "          const docLinkHtml = 'Like what you see? Visit the ' +\n",
              "            '<a target=\"_blank\" href=https://colab.research.google.com/notebooks/data_table.ipynb>data table notebook</a>'\n",
              "            + ' to learn more about interactive tables.';\n",
              "          element.innerHTML = '';\n",
              "          dataTable['output_type'] = 'display_data';\n",
              "          await google.colab.output.renderOutput(dataTable, element);\n",
              "          const docLink = document.createElement('div');\n",
              "          docLink.innerHTML = docLinkHtml;\n",
              "          element.appendChild(docLink);\n",
              "        }\n",
              "      </script>\n",
              "    </div>\n",
              "  </div>\n",
              "  "
            ]
          },
          "metadata": {},
          "execution_count": 146
        }
      ]
    },
    {
      "cell_type": "code",
      "source": [
        "diabetes_dataset[\"Outcome\"] = pd.factorize(diabetes_dataset.Outcome)[0]"
      ],
      "metadata": {
        "id": "9L1AcBwSuZWw"
      },
      "execution_count": 147,
      "outputs": []
    },
    {
      "cell_type": "code",
      "source": [
        "diabetes_dataset.head()"
      ],
      "metadata": {
        "colab": {
          "base_uri": "https://localhost:8080/",
          "height": 206
        },
        "id": "VCL2ATtSurPZ",
        "outputId": "b1f97b6a-e537-4f17-e2a5-8b92b85fcb4c"
      },
      "execution_count": 148,
      "outputs": [
        {
          "output_type": "execute_result",
          "data": {
            "text/plain": [
              "   Pregnancies  Glucose  BloodPressure  SkinThickness  Insulin   BMI  \\\n",
              "0            6      148             72             35        0  33.6   \n",
              "1            1       85             66             29        0  26.6   \n",
              "2            8      183             64              0        0  23.3   \n",
              "3            1       89             66             23       94  28.1   \n",
              "4            0      137             40             35      168  43.1   \n",
              "\n",
              "   DiabetesPedigreeFunction  Age  Outcome  \n",
              "0                     0.627   50        0  \n",
              "1                     0.351   31        1  \n",
              "2                     0.672   32        0  \n",
              "3                     0.167   21        1  \n",
              "4                     2.288   33        0  "
            ],
            "text/html": [
              "\n",
              "  <div id=\"df-d9157ae8-27f6-4d5d-9ad8-426f8954df57\">\n",
              "    <div class=\"colab-df-container\">\n",
              "      <div>\n",
              "<style scoped>\n",
              "    .dataframe tbody tr th:only-of-type {\n",
              "        vertical-align: middle;\n",
              "    }\n",
              "\n",
              "    .dataframe tbody tr th {\n",
              "        vertical-align: top;\n",
              "    }\n",
              "\n",
              "    .dataframe thead th {\n",
              "        text-align: right;\n",
              "    }\n",
              "</style>\n",
              "<table border=\"1\" class=\"dataframe\">\n",
              "  <thead>\n",
              "    <tr style=\"text-align: right;\">\n",
              "      <th></th>\n",
              "      <th>Pregnancies</th>\n",
              "      <th>Glucose</th>\n",
              "      <th>BloodPressure</th>\n",
              "      <th>SkinThickness</th>\n",
              "      <th>Insulin</th>\n",
              "      <th>BMI</th>\n",
              "      <th>DiabetesPedigreeFunction</th>\n",
              "      <th>Age</th>\n",
              "      <th>Outcome</th>\n",
              "    </tr>\n",
              "  </thead>\n",
              "  <tbody>\n",
              "    <tr>\n",
              "      <th>0</th>\n",
              "      <td>6</td>\n",
              "      <td>148</td>\n",
              "      <td>72</td>\n",
              "      <td>35</td>\n",
              "      <td>0</td>\n",
              "      <td>33.6</td>\n",
              "      <td>0.627</td>\n",
              "      <td>50</td>\n",
              "      <td>0</td>\n",
              "    </tr>\n",
              "    <tr>\n",
              "      <th>1</th>\n",
              "      <td>1</td>\n",
              "      <td>85</td>\n",
              "      <td>66</td>\n",
              "      <td>29</td>\n",
              "      <td>0</td>\n",
              "      <td>26.6</td>\n",
              "      <td>0.351</td>\n",
              "      <td>31</td>\n",
              "      <td>1</td>\n",
              "    </tr>\n",
              "    <tr>\n",
              "      <th>2</th>\n",
              "      <td>8</td>\n",
              "      <td>183</td>\n",
              "      <td>64</td>\n",
              "      <td>0</td>\n",
              "      <td>0</td>\n",
              "      <td>23.3</td>\n",
              "      <td>0.672</td>\n",
              "      <td>32</td>\n",
              "      <td>0</td>\n",
              "    </tr>\n",
              "    <tr>\n",
              "      <th>3</th>\n",
              "      <td>1</td>\n",
              "      <td>89</td>\n",
              "      <td>66</td>\n",
              "      <td>23</td>\n",
              "      <td>94</td>\n",
              "      <td>28.1</td>\n",
              "      <td>0.167</td>\n",
              "      <td>21</td>\n",
              "      <td>1</td>\n",
              "    </tr>\n",
              "    <tr>\n",
              "      <th>4</th>\n",
              "      <td>0</td>\n",
              "      <td>137</td>\n",
              "      <td>40</td>\n",
              "      <td>35</td>\n",
              "      <td>168</td>\n",
              "      <td>43.1</td>\n",
              "      <td>2.288</td>\n",
              "      <td>33</td>\n",
              "      <td>0</td>\n",
              "    </tr>\n",
              "  </tbody>\n",
              "</table>\n",
              "</div>\n",
              "      <button class=\"colab-df-convert\" onclick=\"convertToInteractive('df-d9157ae8-27f6-4d5d-9ad8-426f8954df57')\"\n",
              "              title=\"Convert this dataframe to an interactive table.\"\n",
              "              style=\"display:none;\">\n",
              "        \n",
              "  <svg xmlns=\"http://www.w3.org/2000/svg\" height=\"24px\"viewBox=\"0 0 24 24\"\n",
              "       width=\"24px\">\n",
              "    <path d=\"M0 0h24v24H0V0z\" fill=\"none\"/>\n",
              "    <path d=\"M18.56 5.44l.94 2.06.94-2.06 2.06-.94-2.06-.94-.94-2.06-.94 2.06-2.06.94zm-11 1L8.5 8.5l.94-2.06 2.06-.94-2.06-.94L8.5 2.5l-.94 2.06-2.06.94zm10 10l.94 2.06.94-2.06 2.06-.94-2.06-.94-.94-2.06-.94 2.06-2.06.94z\"/><path d=\"M17.41 7.96l-1.37-1.37c-.4-.4-.92-.59-1.43-.59-.52 0-1.04.2-1.43.59L10.3 9.45l-7.72 7.72c-.78.78-.78 2.05 0 2.83L4 21.41c.39.39.9.59 1.41.59.51 0 1.02-.2 1.41-.59l7.78-7.78 2.81-2.81c.8-.78.8-2.07 0-2.86zM5.41 20L4 18.59l7.72-7.72 1.47 1.35L5.41 20z\"/>\n",
              "  </svg>\n",
              "      </button>\n",
              "      \n",
              "  <style>\n",
              "    .colab-df-container {\n",
              "      display:flex;\n",
              "      flex-wrap:wrap;\n",
              "      gap: 12px;\n",
              "    }\n",
              "\n",
              "    .colab-df-convert {\n",
              "      background-color: #E8F0FE;\n",
              "      border: none;\n",
              "      border-radius: 50%;\n",
              "      cursor: pointer;\n",
              "      display: none;\n",
              "      fill: #1967D2;\n",
              "      height: 32px;\n",
              "      padding: 0 0 0 0;\n",
              "      width: 32px;\n",
              "    }\n",
              "\n",
              "    .colab-df-convert:hover {\n",
              "      background-color: #E2EBFA;\n",
              "      box-shadow: 0px 1px 2px rgba(60, 64, 67, 0.3), 0px 1px 3px 1px rgba(60, 64, 67, 0.15);\n",
              "      fill: #174EA6;\n",
              "    }\n",
              "\n",
              "    [theme=dark] .colab-df-convert {\n",
              "      background-color: #3B4455;\n",
              "      fill: #D2E3FC;\n",
              "    }\n",
              "\n",
              "    [theme=dark] .colab-df-convert:hover {\n",
              "      background-color: #434B5C;\n",
              "      box-shadow: 0px 1px 3px 1px rgba(0, 0, 0, 0.15);\n",
              "      filter: drop-shadow(0px 1px 2px rgba(0, 0, 0, 0.3));\n",
              "      fill: #FFFFFF;\n",
              "    }\n",
              "  </style>\n",
              "\n",
              "      <script>\n",
              "        const buttonEl =\n",
              "          document.querySelector('#df-d9157ae8-27f6-4d5d-9ad8-426f8954df57 button.colab-df-convert');\n",
              "        buttonEl.style.display =\n",
              "          google.colab.kernel.accessAllowed ? 'block' : 'none';\n",
              "\n",
              "        async function convertToInteractive(key) {\n",
              "          const element = document.querySelector('#df-d9157ae8-27f6-4d5d-9ad8-426f8954df57');\n",
              "          const dataTable =\n",
              "            await google.colab.kernel.invokeFunction('convertToInteractive',\n",
              "                                                     [key], {});\n",
              "          if (!dataTable) return;\n",
              "\n",
              "          const docLinkHtml = 'Like what you see? Visit the ' +\n",
              "            '<a target=\"_blank\" href=https://colab.research.google.com/notebooks/data_table.ipynb>data table notebook</a>'\n",
              "            + ' to learn more about interactive tables.';\n",
              "          element.innerHTML = '';\n",
              "          dataTable['output_type'] = 'display_data';\n",
              "          await google.colab.output.renderOutput(dataTable, element);\n",
              "          const docLink = document.createElement('div');\n",
              "          docLink.innerHTML = docLinkHtml;\n",
              "          element.appendChild(docLink);\n",
              "        }\n",
              "      </script>\n",
              "    </div>\n",
              "  </div>\n",
              "  "
            ]
          },
          "metadata": {},
          "execution_count": 148
        }
      ]
    },
    {
      "cell_type": "code",
      "source": [
        "print(diabetes_dataset)"
      ],
      "metadata": {
        "colab": {
          "base_uri": "https://localhost:8080/"
        },
        "id": "7CFVnAxMux1E",
        "outputId": "58e43e21-9d15-444b-f3cf-c04f7dade918"
      },
      "execution_count": 149,
      "outputs": [
        {
          "output_type": "stream",
          "name": "stdout",
          "text": [
            "     Pregnancies  Glucose  BloodPressure  SkinThickness  Insulin   BMI  \\\n",
            "0              6      148             72             35        0  33.6   \n",
            "1              1       85             66             29        0  26.6   \n",
            "2              8      183             64              0        0  23.3   \n",
            "3              1       89             66             23       94  28.1   \n",
            "4              0      137             40             35      168  43.1   \n",
            "..           ...      ...            ...            ...      ...   ...   \n",
            "763           10      101             76             48      180  32.9   \n",
            "764            2      122             70             27        0  36.8   \n",
            "765            5      121             72             23      112  26.2   \n",
            "766            1      126             60              0        0  30.1   \n",
            "767            1       93             70             31        0  30.4   \n",
            "\n",
            "     DiabetesPedigreeFunction  Age  Outcome  \n",
            "0                       0.627   50        0  \n",
            "1                       0.351   31        1  \n",
            "2                       0.672   32        0  \n",
            "3                       0.167   21        1  \n",
            "4                       2.288   33        0  \n",
            "..                        ...  ...      ...  \n",
            "763                     0.171   63        1  \n",
            "764                     0.340   27        1  \n",
            "765                     0.245   30        1  \n",
            "766                     0.349   47        0  \n",
            "767                     0.315   23        1  \n",
            "\n",
            "[768 rows x 9 columns]\n"
          ]
        }
      ]
    },
    {
      "cell_type": "code",
      "source": [
        "diabetes_dataset = diabetes_dataset.drop(labels=\"Outcome\", axis=1)"
      ],
      "metadata": {
        "id": "MACTaxruu4YG"
      },
      "execution_count": 150,
      "outputs": []
    },
    {
      "cell_type": "code",
      "source": [
        "print(diabetes_dataset)"
      ],
      "metadata": {
        "colab": {
          "base_uri": "https://localhost:8080/"
        },
        "id": "9aAzNGxAvLtF",
        "outputId": "191243c3-a1d1-4db9-8e57-52a075427eb5"
      },
      "execution_count": 151,
      "outputs": [
        {
          "output_type": "stream",
          "name": "stdout",
          "text": [
            "     Pregnancies  Glucose  BloodPressure  SkinThickness  Insulin   BMI  \\\n",
            "0              6      148             72             35        0  33.6   \n",
            "1              1       85             66             29        0  26.6   \n",
            "2              8      183             64              0        0  23.3   \n",
            "3              1       89             66             23       94  28.1   \n",
            "4              0      137             40             35      168  43.1   \n",
            "..           ...      ...            ...            ...      ...   ...   \n",
            "763           10      101             76             48      180  32.9   \n",
            "764            2      122             70             27        0  36.8   \n",
            "765            5      121             72             23      112  26.2   \n",
            "766            1      126             60              0        0  30.1   \n",
            "767            1       93             70             31        0  30.4   \n",
            "\n",
            "     DiabetesPedigreeFunction  Age  \n",
            "0                       0.627   50  \n",
            "1                       0.351   31  \n",
            "2                       0.672   32  \n",
            "3                       0.167   21  \n",
            "4                       2.288   33  \n",
            "..                        ...  ...  \n",
            "763                     0.171   63  \n",
            "764                     0.340   27  \n",
            "765                     0.245   30  \n",
            "766                     0.349   47  \n",
            "767                     0.315   23  \n",
            "\n",
            "[768 rows x 8 columns]\n"
          ]
        }
      ]
    },
    {
      "cell_type": "code",
      "source": [
        "diabetes_dataset =diabetes_dataset.to_numpy()"
      ],
      "metadata": {
        "id": "T8TlsMXGvSBO"
      },
      "execution_count": 152,
      "outputs": []
    },
    {
      "cell_type": "code",
      "source": [
        "print(diabetes_dataset)"
      ],
      "metadata": {
        "colab": {
          "base_uri": "https://localhost:8080/"
        },
        "id": "OGQdcJXuva6g",
        "outputId": "b2fb8bd6-cbd7-4e83-eebd-7923aac72e50"
      },
      "execution_count": 153,
      "outputs": [
        {
          "output_type": "stream",
          "name": "stdout",
          "text": [
            "[[  6.    148.     72.    ...  33.6     0.627  50.   ]\n",
            " [  1.     85.     66.    ...  26.6     0.351  31.   ]\n",
            " [  8.    183.     64.    ...  23.3     0.672  32.   ]\n",
            " ...\n",
            " [  5.    121.     72.    ...  26.2     0.245  30.   ]\n",
            " [  1.    126.     60.    ...  30.1     0.349  47.   ]\n",
            " [  1.     93.     70.    ...  30.4     0.315  23.   ]]\n"
          ]
        }
      ]
    },
    {
      "cell_type": "code",
      "source": [
        "dataTraining = np.concatenate((diabetes_dataset[0:40, :], diabetes_dataset[50:90, :]),\n",
        "                              axis=0)\n",
        "dataTesting = np.concatenate((diabetes_dataset[40:50, :], diabetes_dataset[90:100, :]),\n",
        "                              axis=0)"
      ],
      "metadata": {
        "id": "hEOLhqVMvgm7"
      },
      "execution_count": 154,
      "outputs": []
    },
    {
      "cell_type": "code",
      "source": [
        "print(dataTraining)\n",
        "len(dataTraining)"
      ],
      "metadata": {
        "colab": {
          "base_uri": "https://localhost:8080/"
        },
        "id": "Iur_VKJ1wFYn",
        "outputId": "3b533ddb-2b45-4a62-fba0-af16633e1ed9"
      },
      "execution_count": 155,
      "outputs": [
        {
          "output_type": "stream",
          "name": "stdout",
          "text": [
            "[[6.000e+00 1.480e+02 7.200e+01 3.500e+01 0.000e+00 3.360e+01 6.270e-01\n",
            "  5.000e+01]\n",
            " [1.000e+00 8.500e+01 6.600e+01 2.900e+01 0.000e+00 2.660e+01 3.510e-01\n",
            "  3.100e+01]\n",
            " [8.000e+00 1.830e+02 6.400e+01 0.000e+00 0.000e+00 2.330e+01 6.720e-01\n",
            "  3.200e+01]\n",
            " [1.000e+00 8.900e+01 6.600e+01 2.300e+01 9.400e+01 2.810e+01 1.670e-01\n",
            "  2.100e+01]\n",
            " [0.000e+00 1.370e+02 4.000e+01 3.500e+01 1.680e+02 4.310e+01 2.288e+00\n",
            "  3.300e+01]\n",
            " [5.000e+00 1.160e+02 7.400e+01 0.000e+00 0.000e+00 2.560e+01 2.010e-01\n",
            "  3.000e+01]\n",
            " [3.000e+00 7.800e+01 5.000e+01 3.200e+01 8.800e+01 3.100e+01 2.480e-01\n",
            "  2.600e+01]\n",
            " [1.000e+01 1.150e+02 0.000e+00 0.000e+00 0.000e+00 3.530e+01 1.340e-01\n",
            "  2.900e+01]\n",
            " [2.000e+00 1.970e+02 7.000e+01 4.500e+01 5.430e+02 3.050e+01 1.580e-01\n",
            "  5.300e+01]\n",
            " [8.000e+00 1.250e+02 9.600e+01 0.000e+00 0.000e+00 0.000e+00 2.320e-01\n",
            "  5.400e+01]\n",
            " [4.000e+00 1.100e+02 9.200e+01 0.000e+00 0.000e+00 3.760e+01 1.910e-01\n",
            "  3.000e+01]\n",
            " [1.000e+01 1.680e+02 7.400e+01 0.000e+00 0.000e+00 3.800e+01 5.370e-01\n",
            "  3.400e+01]\n",
            " [1.000e+01 1.390e+02 8.000e+01 0.000e+00 0.000e+00 2.710e+01 1.441e+00\n",
            "  5.700e+01]\n",
            " [1.000e+00 1.890e+02 6.000e+01 2.300e+01 8.460e+02 3.010e+01 3.980e-01\n",
            "  5.900e+01]\n",
            " [5.000e+00 1.660e+02 7.200e+01 1.900e+01 1.750e+02 2.580e+01 5.870e-01\n",
            "  5.100e+01]\n",
            " [7.000e+00 1.000e+02 0.000e+00 0.000e+00 0.000e+00 3.000e+01 4.840e-01\n",
            "  3.200e+01]\n",
            " [0.000e+00 1.180e+02 8.400e+01 4.700e+01 2.300e+02 4.580e+01 5.510e-01\n",
            "  3.100e+01]\n",
            " [7.000e+00 1.070e+02 7.400e+01 0.000e+00 0.000e+00 2.960e+01 2.540e-01\n",
            "  3.100e+01]\n",
            " [1.000e+00 1.030e+02 3.000e+01 3.800e+01 8.300e+01 4.330e+01 1.830e-01\n",
            "  3.300e+01]\n",
            " [1.000e+00 1.150e+02 7.000e+01 3.000e+01 9.600e+01 3.460e+01 5.290e-01\n",
            "  3.200e+01]\n",
            " [3.000e+00 1.260e+02 8.800e+01 4.100e+01 2.350e+02 3.930e+01 7.040e-01\n",
            "  2.700e+01]\n",
            " [8.000e+00 9.900e+01 8.400e+01 0.000e+00 0.000e+00 3.540e+01 3.880e-01\n",
            "  5.000e+01]\n",
            " [7.000e+00 1.960e+02 9.000e+01 0.000e+00 0.000e+00 3.980e+01 4.510e-01\n",
            "  4.100e+01]\n",
            " [9.000e+00 1.190e+02 8.000e+01 3.500e+01 0.000e+00 2.900e+01 2.630e-01\n",
            "  2.900e+01]\n",
            " [1.100e+01 1.430e+02 9.400e+01 3.300e+01 1.460e+02 3.660e+01 2.540e-01\n",
            "  5.100e+01]\n",
            " [1.000e+01 1.250e+02 7.000e+01 2.600e+01 1.150e+02 3.110e+01 2.050e-01\n",
            "  4.100e+01]\n",
            " [7.000e+00 1.470e+02 7.600e+01 0.000e+00 0.000e+00 3.940e+01 2.570e-01\n",
            "  4.300e+01]\n",
            " [1.000e+00 9.700e+01 6.600e+01 1.500e+01 1.400e+02 2.320e+01 4.870e-01\n",
            "  2.200e+01]\n",
            " [1.300e+01 1.450e+02 8.200e+01 1.900e+01 1.100e+02 2.220e+01 2.450e-01\n",
            "  5.700e+01]\n",
            " [5.000e+00 1.170e+02 9.200e+01 0.000e+00 0.000e+00 3.410e+01 3.370e-01\n",
            "  3.800e+01]\n",
            " [5.000e+00 1.090e+02 7.500e+01 2.600e+01 0.000e+00 3.600e+01 5.460e-01\n",
            "  6.000e+01]\n",
            " [3.000e+00 1.580e+02 7.600e+01 3.600e+01 2.450e+02 3.160e+01 8.510e-01\n",
            "  2.800e+01]\n",
            " [3.000e+00 8.800e+01 5.800e+01 1.100e+01 5.400e+01 2.480e+01 2.670e-01\n",
            "  2.200e+01]\n",
            " [6.000e+00 9.200e+01 9.200e+01 0.000e+00 0.000e+00 1.990e+01 1.880e-01\n",
            "  2.800e+01]\n",
            " [1.000e+01 1.220e+02 7.800e+01 3.100e+01 0.000e+00 2.760e+01 5.120e-01\n",
            "  4.500e+01]\n",
            " [4.000e+00 1.030e+02 6.000e+01 3.300e+01 1.920e+02 2.400e+01 9.660e-01\n",
            "  3.300e+01]\n",
            " [1.100e+01 1.380e+02 7.600e+01 0.000e+00 0.000e+00 3.320e+01 4.200e-01\n",
            "  3.500e+01]\n",
            " [9.000e+00 1.020e+02 7.600e+01 3.700e+01 0.000e+00 3.290e+01 6.650e-01\n",
            "  4.600e+01]\n",
            " [2.000e+00 9.000e+01 6.800e+01 4.200e+01 0.000e+00 3.820e+01 5.030e-01\n",
            "  2.700e+01]\n",
            " [4.000e+00 1.110e+02 7.200e+01 4.700e+01 2.070e+02 3.710e+01 1.390e+00\n",
            "  5.600e+01]\n",
            " [1.000e+00 1.030e+02 8.000e+01 1.100e+01 8.200e+01 1.940e+01 4.910e-01\n",
            "  2.200e+01]\n",
            " [1.000e+00 1.010e+02 5.000e+01 1.500e+01 3.600e+01 2.420e+01 5.260e-01\n",
            "  2.600e+01]\n",
            " [5.000e+00 8.800e+01 6.600e+01 2.100e+01 2.300e+01 2.440e+01 3.420e-01\n",
            "  3.000e+01]\n",
            " [8.000e+00 1.760e+02 9.000e+01 3.400e+01 3.000e+02 3.370e+01 4.670e-01\n",
            "  5.800e+01]\n",
            " [7.000e+00 1.500e+02 6.600e+01 4.200e+01 3.420e+02 3.470e+01 7.180e-01\n",
            "  4.200e+01]\n",
            " [1.000e+00 7.300e+01 5.000e+01 1.000e+01 0.000e+00 2.300e+01 2.480e-01\n",
            "  2.100e+01]\n",
            " [7.000e+00 1.870e+02 6.800e+01 3.900e+01 3.040e+02 3.770e+01 2.540e-01\n",
            "  4.100e+01]\n",
            " [0.000e+00 1.000e+02 8.800e+01 6.000e+01 1.100e+02 4.680e+01 9.620e-01\n",
            "  3.100e+01]\n",
            " [0.000e+00 1.460e+02 8.200e+01 0.000e+00 0.000e+00 4.050e+01 1.781e+00\n",
            "  4.400e+01]\n",
            " [0.000e+00 1.050e+02 6.400e+01 4.100e+01 1.420e+02 4.150e+01 1.730e-01\n",
            "  2.200e+01]\n",
            " [2.000e+00 8.400e+01 0.000e+00 0.000e+00 0.000e+00 0.000e+00 3.040e-01\n",
            "  2.100e+01]\n",
            " [8.000e+00 1.330e+02 7.200e+01 0.000e+00 0.000e+00 3.290e+01 2.700e-01\n",
            "  3.900e+01]\n",
            " [5.000e+00 4.400e+01 6.200e+01 0.000e+00 0.000e+00 2.500e+01 5.870e-01\n",
            "  3.600e+01]\n",
            " [2.000e+00 1.410e+02 5.800e+01 3.400e+01 1.280e+02 2.540e+01 6.990e-01\n",
            "  2.400e+01]\n",
            " [7.000e+00 1.140e+02 6.600e+01 0.000e+00 0.000e+00 3.280e+01 2.580e-01\n",
            "  4.200e+01]\n",
            " [5.000e+00 9.900e+01 7.400e+01 2.700e+01 0.000e+00 2.900e+01 2.030e-01\n",
            "  3.200e+01]\n",
            " [0.000e+00 1.090e+02 8.800e+01 3.000e+01 0.000e+00 3.250e+01 8.550e-01\n",
            "  3.800e+01]\n",
            " [2.000e+00 1.090e+02 9.200e+01 0.000e+00 0.000e+00 4.270e+01 8.450e-01\n",
            "  5.400e+01]\n",
            " [1.000e+00 9.500e+01 6.600e+01 1.300e+01 3.800e+01 1.960e+01 3.340e-01\n",
            "  2.500e+01]\n",
            " [4.000e+00 1.460e+02 8.500e+01 2.700e+01 1.000e+02 2.890e+01 1.890e-01\n",
            "  2.700e+01]\n",
            " [2.000e+00 1.000e+02 6.600e+01 2.000e+01 9.000e+01 3.290e+01 8.670e-01\n",
            "  2.800e+01]\n",
            " [5.000e+00 1.390e+02 6.400e+01 3.500e+01 1.400e+02 2.860e+01 4.110e-01\n",
            "  2.600e+01]\n",
            " [1.300e+01 1.260e+02 9.000e+01 0.000e+00 0.000e+00 4.340e+01 5.830e-01\n",
            "  4.200e+01]\n",
            " [4.000e+00 1.290e+02 8.600e+01 2.000e+01 2.700e+02 3.510e+01 2.310e-01\n",
            "  2.300e+01]\n",
            " [1.000e+00 7.900e+01 7.500e+01 3.000e+01 0.000e+00 3.200e+01 3.960e-01\n",
            "  2.200e+01]\n",
            " [1.000e+00 0.000e+00 4.800e+01 2.000e+01 0.000e+00 2.470e+01 1.400e-01\n",
            "  2.200e+01]\n",
            " [7.000e+00 6.200e+01 7.800e+01 0.000e+00 0.000e+00 3.260e+01 3.910e-01\n",
            "  4.100e+01]\n",
            " [5.000e+00 9.500e+01 7.200e+01 3.300e+01 0.000e+00 3.770e+01 3.700e-01\n",
            "  2.700e+01]\n",
            " [0.000e+00 1.310e+02 0.000e+00 0.000e+00 0.000e+00 4.320e+01 2.700e-01\n",
            "  2.600e+01]\n",
            " [2.000e+00 1.120e+02 6.600e+01 2.200e+01 0.000e+00 2.500e+01 3.070e-01\n",
            "  2.400e+01]\n",
            " [3.000e+00 1.130e+02 4.400e+01 1.300e+01 0.000e+00 2.240e+01 1.400e-01\n",
            "  2.200e+01]\n",
            " [2.000e+00 7.400e+01 0.000e+00 0.000e+00 0.000e+00 0.000e+00 1.020e-01\n",
            "  2.200e+01]\n",
            " [7.000e+00 8.300e+01 7.800e+01 2.600e+01 7.100e+01 2.930e+01 7.670e-01\n",
            "  3.600e+01]\n",
            " [0.000e+00 1.010e+02 6.500e+01 2.800e+01 0.000e+00 2.460e+01 2.370e-01\n",
            "  2.200e+01]\n",
            " [5.000e+00 1.370e+02 1.080e+02 0.000e+00 0.000e+00 4.880e+01 2.270e-01\n",
            "  3.700e+01]\n",
            " [2.000e+00 1.100e+02 7.400e+01 2.900e+01 1.250e+02 3.240e+01 6.980e-01\n",
            "  2.700e+01]\n",
            " [1.300e+01 1.060e+02 7.200e+01 5.400e+01 0.000e+00 3.660e+01 1.780e-01\n",
            "  4.500e+01]\n",
            " [2.000e+00 1.000e+02 6.800e+01 2.500e+01 7.100e+01 3.850e+01 3.240e-01\n",
            "  2.600e+01]\n",
            " [1.500e+01 1.360e+02 7.000e+01 3.200e+01 1.100e+02 3.710e+01 1.530e-01\n",
            "  4.300e+01]\n",
            " [1.000e+00 1.070e+02 6.800e+01 1.900e+01 0.000e+00 2.650e+01 1.650e-01\n",
            "  2.400e+01]]\n"
          ]
        },
        {
          "output_type": "execute_result",
          "data": {
            "text/plain": [
              "80"
            ]
          },
          "metadata": {},
          "execution_count": 155
        }
      ]
    },
    {
      "cell_type": "code",
      "source": [
        "print(dataTesting)\n",
        "len(dataTesting)"
      ],
      "metadata": {
        "colab": {
          "base_uri": "https://localhost:8080/"
        },
        "id": "1p_1gP3awM8C",
        "outputId": "f3632d67-56d3-4106-cfe7-2edf385e64e9"
      },
      "execution_count": 156,
      "outputs": [
        {
          "output_type": "stream",
          "name": "stdout",
          "text": [
            "[[3.000e+00 1.800e+02 6.400e+01 2.500e+01 7.000e+01 3.400e+01 2.710e-01\n",
            "  2.600e+01]\n",
            " [7.000e+00 1.330e+02 8.400e+01 0.000e+00 0.000e+00 4.020e+01 6.960e-01\n",
            "  3.700e+01]\n",
            " [7.000e+00 1.060e+02 9.200e+01 1.800e+01 0.000e+00 2.270e+01 2.350e-01\n",
            "  4.800e+01]\n",
            " [9.000e+00 1.710e+02 1.100e+02 2.400e+01 2.400e+02 4.540e+01 7.210e-01\n",
            "  5.400e+01]\n",
            " [7.000e+00 1.590e+02 6.400e+01 0.000e+00 0.000e+00 2.740e+01 2.940e-01\n",
            "  4.000e+01]\n",
            " [0.000e+00 1.800e+02 6.600e+01 3.900e+01 0.000e+00 4.200e+01 1.893e+00\n",
            "  2.500e+01]\n",
            " [1.000e+00 1.460e+02 5.600e+01 0.000e+00 0.000e+00 2.970e+01 5.640e-01\n",
            "  2.900e+01]\n",
            " [2.000e+00 7.100e+01 7.000e+01 2.700e+01 0.000e+00 2.800e+01 5.860e-01\n",
            "  2.200e+01]\n",
            " [7.000e+00 1.030e+02 6.600e+01 3.200e+01 0.000e+00 3.910e+01 3.440e-01\n",
            "  3.100e+01]\n",
            " [7.000e+00 1.050e+02 0.000e+00 0.000e+00 0.000e+00 0.000e+00 3.050e-01\n",
            "  2.400e+01]\n",
            " [1.000e+00 8.000e+01 5.500e+01 0.000e+00 0.000e+00 1.910e+01 2.580e-01\n",
            "  2.100e+01]\n",
            " [4.000e+00 1.230e+02 8.000e+01 1.500e+01 1.760e+02 3.200e+01 4.430e-01\n",
            "  3.400e+01]\n",
            " [7.000e+00 8.100e+01 7.800e+01 4.000e+01 4.800e+01 4.670e+01 2.610e-01\n",
            "  4.200e+01]\n",
            " [4.000e+00 1.340e+02 7.200e+01 0.000e+00 0.000e+00 2.380e+01 2.770e-01\n",
            "  6.000e+01]\n",
            " [2.000e+00 1.420e+02 8.200e+01 1.800e+01 6.400e+01 2.470e+01 7.610e-01\n",
            "  2.100e+01]\n",
            " [6.000e+00 1.440e+02 7.200e+01 2.700e+01 2.280e+02 3.390e+01 2.550e-01\n",
            "  4.000e+01]\n",
            " [2.000e+00 9.200e+01 6.200e+01 2.800e+01 0.000e+00 3.160e+01 1.300e-01\n",
            "  2.400e+01]\n",
            " [1.000e+00 7.100e+01 4.800e+01 1.800e+01 7.600e+01 2.040e+01 3.230e-01\n",
            "  2.200e+01]\n",
            " [6.000e+00 9.300e+01 5.000e+01 3.000e+01 6.400e+01 2.870e+01 3.560e-01\n",
            "  2.300e+01]\n",
            " [1.000e+00 1.220e+02 9.000e+01 5.100e+01 2.200e+02 4.970e+01 3.250e-01\n",
            "  3.100e+01]]\n"
          ]
        },
        {
          "output_type": "execute_result",
          "data": {
            "text/plain": [
              "20"
            ]
          },
          "metadata": {},
          "execution_count": 156
        }
      ]
    },
    {
      "cell_type": "code",
      "source": [
        "inputTraining = dataTraining[:, 0:4]\n",
        "inputTesting = dataTesting[:, 0:4]\n",
        "labelTraining = dataTraining[:, 4]\n",
        "labelTesting = dataTesting[:, 4]\n",
        "print(labelTraining)\n",
        "len(labelTraining)"
      ],
      "metadata": {
        "colab": {
          "base_uri": "https://localhost:8080/"
        },
        "id": "dUxYZ0UMwVSy",
        "outputId": "eddb43df-6369-44cc-b984-661401161ee4"
      },
      "execution_count": 157,
      "outputs": [
        {
          "output_type": "stream",
          "name": "stdout",
          "text": [
            "[  0.   0.   0.  94. 168.   0.  88.   0. 543.   0.   0.   0.   0. 846.\n",
            " 175.   0. 230.   0.  83.  96. 235.   0.   0.   0. 146. 115.   0. 140.\n",
            " 110.   0.   0. 245.  54.   0.   0. 192.   0.   0.   0. 207.  82.  36.\n",
            "  23. 300. 342.   0. 304. 110.   0. 142.   0.   0.   0. 128.   0.   0.\n",
            "   0.   0.  38. 100.  90. 140.   0. 270.   0.   0.   0.   0.   0.   0.\n",
            "   0.   0.  71.   0.   0. 125.   0.  71. 110.   0.]\n"
          ]
        },
        {
          "output_type": "execute_result",
          "data": {
            "text/plain": [
              "80"
            ]
          },
          "metadata": {},
          "execution_count": 157
        }
      ]
    },
    {
      "cell_type": "code",
      "source": [
        "model = tree.DecisionTreeClassifier()"
      ],
      "metadata": {
        "id": "-h79dq-WxGio"
      },
      "execution_count": 158,
      "outputs": []
    },
    {
      "cell_type": "code",
      "source": [
        "model = model.fit(inputTraining, labelTraining)"
      ],
      "metadata": {
        "id": "smr2F9SaxfeB"
      },
      "execution_count": 159,
      "outputs": []
    },
    {
      "cell_type": "code",
      "source": [
        "hasilPrediksi = model.predict(inputTesting)\n",
        "print(\"Label sebenarnya : \", labelTesting)\n",
        "print(\"Hasil Prediksi : \", hasilPrediksi)"
      ],
      "metadata": {
        "colab": {
          "base_uri": "https://localhost:8080/"
        },
        "id": "ydCmd7QNxrH3",
        "outputId": "bef4cb95-5c48-4e5b-91c5-684c9df49b36"
      },
      "execution_count": 160,
      "outputs": [
        {
          "output_type": "stream",
          "name": "stdout",
          "text": [
            "Label sebenarnya :  [ 70.   0.   0. 240.   0.   0.   0.   0.   0.   0.   0. 176.  48.   0.\n",
            "  64. 228.   0.  76.  64. 220.]\n",
            "Hasil Prediksi :  [140.   0.   0. 100.   0. 846.   0.  71.   0.   0.   0.  96.  71.   0.\n",
            " 175. 100.   0.   0.   0. 230.]\n"
          ]
        }
      ]
    },
    {
      "cell_type": "code",
      "source": [
        "prediksiBenar = (hasilPrediksi == labelTesting).sum()\n",
        "prediksiSalah = (hasilPrediksi != labelTesting).sum()\n",
        "print(\"Prediksi Benar : \", prediksiBenar, \"data\")\n",
        "print(\"Prediksi Salah : \", prediksiSalah, \"data\")\n",
        "print(\"Akurasi :\", prediksiBenar/(prediksiBenar+prediksiSalah) * 100, \"%\")"
      ],
      "metadata": {
        "colab": {
          "base_uri": "https://localhost:8080/"
        },
        "id": "Bn_IRzu8yDfO",
        "outputId": "add01cbc-0e0f-4062-e59d-b8254aab831d"
      },
      "execution_count": 161,
      "outputs": [
        {
          "output_type": "stream",
          "name": "stdout",
          "text": [
            "Prediksi Benar :  9 data\n",
            "Prediksi Salah :  11 data\n",
            "Akurasi : 45.0 %\n"
          ]
        }
      ]
    }
  ]
}